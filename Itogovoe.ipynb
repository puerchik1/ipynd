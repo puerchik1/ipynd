{
  "nbformat": 4,
  "nbformat_minor": 0,
  "metadata": {
    "colab": {
      "provenance": [],
      "authorship_tag": "ABX9TyNYmRKwJFSGbvF8XQzd83I5",
      "include_colab_link": true
    },
    "kernelspec": {
      "name": "python3",
      "display_name": "Python 3"
    },
    "language_info": {
      "name": "python"
    }
  },
  "cells": [
    {
      "cell_type": "markdown",
      "metadata": {
        "id": "view-in-github",
        "colab_type": "text"
      },
      "source": [
        "<a href=\"https://colab.research.google.com/github/puerchik1/ipynd/blob/main/Itogovoe.ipynb\" target=\"_parent\"><img src=\"https://colab.research.google.com/assets/colab-badge.svg\" alt=\"Open In Colab\"/></a>"
      ]
    },
    {
      "cell_type": "markdown",
      "source": [
        "**PySpark**\n"
      ],
      "metadata": {
        "id": "bVsDoIpT7rRM"
      }
    },
    {
      "cell_type": "code",
      "source": [
        "from pyspark.sql import SparkSession\n",
        "from pyspark.sql.functions import count, col, to_date, sum\n",
        "\n",
        "spark = SparkSession.builder\\\n",
        ".appName('itogovoe')\\\n",
        ".config(\"spark.master\",\"local[*]\")\\\n",
        ".getOrCreate()\n",
        "\n",
        "df = spark.read.csv('/content/web_server_logs.csv', header=True,inferSchema=True)\n",
        "# df.printSchema()\n",
        "# df.show(10)\n",
        "\n",
        "# Сгруппируйте данные по IP и посчитайте количество запросов для каждого IP, выводим 10 самых активных IP\n",
        "top = df.groupBy('ip')\\\n",
        ".agg(count('ip').alias('request_count'))\\\n",
        ".orderBy('request_count', ascending=False)\\\n",
        ".limit(10)\n",
        "print(\"Top 10 active IP addresses:\")\n",
        "top.show()\n",
        "\n",
        "# Сгруппируйте данные по HTTP-методу и посчитайте количество запросов для каждого метода\n",
        "http_count = df.groupBy('method')\\\n",
        ".agg(count('ip').alias('method_count'))\n",
        "print(\"Reques count by HTTP method:\")\n",
        "http_count.show()\n",
        "\n",
        "# Профильтруйте и посчитайте количество запросов с кодом ответа 404\n",
        "sum_code = df.filter(col('response_code') == 404).count()\n",
        "print(f'Number of 404 response codes: {sum_code}')\n",
        "\n",
        "# Сгруппируйте данные по дате и просуммируйте размер ответов, сортируйте по дате\n",
        "date_df = df.withColumn('date', to_date(col('timestamp')))\n",
        "res = date_df.groupBy('date')\\\n",
        ".agg(sum('response_size').alias('total_response_size'))\\\n",
        ".orderBy('date', ascending=True)\n",
        "print('Total response size by day:')\n",
        "res.show()\n",
        "\n",
        "spark.stop()"
      ],
      "metadata": {
        "colab": {
          "base_uri": "https://localhost:8080/"
        },
        "id": "s4m4F-e-7txw",
        "outputId": "bc892e18-fbb5-4a95-f90a-db3ae04ef5bb"
      },
      "execution_count": 36,
      "outputs": [
        {
          "output_type": "stream",
          "name": "stdout",
          "text": [
            "Top 10 active IP addresses:\n",
            "+--------------+-------------+\n",
            "|            ip|request_count|\n",
            "+--------------+-------------+\n",
            "|84.209.132.105|            2|\n",
            "| 154.199.29.41|            1|\n",
            "| 162.174.8.116|            1|\n",
            "|24.165.103.123|            1|\n",
            "|40.172.168.206|            1|\n",
            "|194.98.173.250|            1|\n",
            "|  29.211.75.38|            1|\n",
            "|  5.150.42.167|            1|\n",
            "|  14.16.71.110|            1|\n",
            "|  5.26.199.137|            1|\n",
            "+--------------+-------------+\n",
            "\n",
            "Reques count by HTTP method:\n",
            "+------+------------+\n",
            "|method|method_count|\n",
            "+------+------------+\n",
            "|  POST|       24992|\n",
            "|DELETE|       25063|\n",
            "|   PUT|       24901|\n",
            "|   GET|       25044|\n",
            "+------+------------+\n",
            "\n",
            "Number of 404 response codes: 24881\n",
            "Total response size by day:\n",
            "+----------+-------------------+\n",
            "|      date|total_response_size|\n",
            "+----------+-------------------+\n",
            "|2025-01-01|            8445824|\n",
            "|2025-01-02|            8374681|\n",
            "|2025-01-03|            8548525|\n",
            "|2025-01-04|            9039563|\n",
            "|2025-01-05|            9037872|\n",
            "|2025-01-06|            8836642|\n",
            "|2025-01-07|            8925425|\n",
            "|2025-01-08|            8793793|\n",
            "|2025-01-09|            9008210|\n",
            "|2025-01-10|            8864544|\n",
            "|2025-01-11|            8774945|\n",
            "|2025-01-12|            9099960|\n",
            "|2025-01-13|            8664180|\n",
            "|2025-01-14|            8834437|\n",
            "|2025-01-15|            8473453|\n",
            "|2025-01-16|            8926208|\n",
            "|2025-01-17|            8902798|\n",
            "|2025-01-18|            8487910|\n",
            "|2025-01-19|            8950616|\n",
            "|2025-01-20|            8946429|\n",
            "+----------+-------------------+\n",
            "only showing top 20 rows\n",
            "\n"
          ]
        }
      ]
    }
  ]
}